{
 "cells": [
  {
   "cell_type": "code",
   "execution_count": 44,
   "metadata": {
    "executionInfo": {
     "elapsed": 2676,
     "status": "ok",
     "timestamp": 1739859717061,
     "user": {
      "displayName": "Rohan Movaliya",
      "userId": "01874944816231313758"
     },
     "user_tz": -330
    },
    "id": "KCaqvR-szF30"
   },
   "outputs": [],
   "source": [
    "import pandas as pd\n",
    "import matplotlib.pyplot as plt\n",
    "import seaborn as sns"
   ]
  },
  {
   "cell_type": "code",
   "execution_count": 45,
   "metadata": {
    "executionInfo": {
     "elapsed": 114,
     "status": "ok",
     "timestamp": 1739859717062,
     "user": {
      "displayName": "Rohan Movaliya",
      "userId": "01874944816231313758"
     },
     "user_tz": -330
    },
    "id": "7K5YUeYj_vwb"
   },
   "outputs": [],
   "source": [
    "pd.set_option(\"display.max_rows\", None)"
   ]
  },
  {
   "cell_type": "code",
   "execution_count": 46,
   "metadata": {
    "executionInfo": {
     "elapsed": 113,
     "status": "ok",
     "timestamp": 1739859717062,
     "user": {
      "displayName": "Rohan Movaliya",
      "userId": "01874944816231313758"
     },
     "user_tz": -330
    },
    "id": "X9zrQTUw0Lpd"
   },
   "outputs": [],
   "source": [
    "file_path = \"2025.csv\""
   ]
  },
  {
   "cell_type": "code",
   "execution_count": 47,
   "metadata": {
    "executionInfo": {
     "elapsed": 112,
     "status": "ok",
     "timestamp": 1739859717063,
     "user": {
      "displayName": "Rohan Movaliya",
      "userId": "01874944816231313758"
     },
     "user_tz": -330
    },
    "id": "OVR4k7cuzI1P"
   },
   "outputs": [],
   "source": [
    "df = pd.read_csv(file_path)"
   ]
  },
  {
   "cell_type": "code",
   "execution_count": 48,
   "metadata": {
    "colab": {
     "base_uri": "https://localhost:8080/",
     "height": 206
    },
    "executionInfo": {
     "elapsed": 111,
     "status": "ok",
     "timestamp": 1739859717063,
     "user": {
      "displayName": "Rohan Movaliya",
      "userId": "01874944816231313758"
     },
     "user_tz": -330
    },
    "id": "xH3Sx78A0Ukc",
    "outputId": "9b02f53e-dfba-4fea-cb08-dbad0ce82355"
   },
   "outputs": [
    {
     "data": {
      "text/html": [
       "<div>\n",
       "<style scoped>\n",
       "    .dataframe tbody tr th:only-of-type {\n",
       "        vertical-align: middle;\n",
       "    }\n",
       "\n",
       "    .dataframe tbody tr th {\n",
       "        vertical-align: top;\n",
       "    }\n",
       "\n",
       "    .dataframe thead th {\n",
       "        text-align: right;\n",
       "    }\n",
       "</style>\n",
       "<table border=\"1\" class=\"dataframe\">\n",
       "  <thead>\n",
       "    <tr style=\"text-align: right;\">\n",
       "      <th></th>\n",
       "      <th>Date</th>\n",
       "      <th>Time</th>\n",
       "      <th>Remark</th>\n",
       "      <th>Party</th>\n",
       "      <th>Category</th>\n",
       "      <th>Mode</th>\n",
       "      <th>Cash In</th>\n",
       "      <th>Cash Out</th>\n",
       "      <th>Balance</th>\n",
       "    </tr>\n",
       "  </thead>\n",
       "  <tbody>\n",
       "    <tr>\n",
       "      <th>0</th>\n",
       "      <td>01 Jan 2025</td>\n",
       "      <td>11:27 AM</td>\n",
       "      <td>Pocket Money</td>\n",
       "      <td>NaN</td>\n",
       "      <td>Home</td>\n",
       "      <td>Cash</td>\n",
       "      <td>1073.27</td>\n",
       "      <td>NaN</td>\n",
       "      <td>1073.27</td>\n",
       "    </tr>\n",
       "    <tr>\n",
       "      <th>1</th>\n",
       "      <td>01 Jan 2025</td>\n",
       "      <td>08:02 PM</td>\n",
       "      <td>Sandwich</td>\n",
       "      <td>NaN</td>\n",
       "      <td>Food</td>\n",
       "      <td>Cash</td>\n",
       "      <td>NaN</td>\n",
       "      <td>80.0</td>\n",
       "      <td>873.27</td>\n",
       "    </tr>\n",
       "    <tr>\n",
       "      <th>2</th>\n",
       "      <td>01 Jan 2025</td>\n",
       "      <td>08:02 PM</td>\n",
       "      <td>Coffee</td>\n",
       "      <td>NaN</td>\n",
       "      <td>Food</td>\n",
       "      <td>Cash</td>\n",
       "      <td>NaN</td>\n",
       "      <td>20.0</td>\n",
       "      <td>953.27</td>\n",
       "    </tr>\n",
       "    <tr>\n",
       "      <th>3</th>\n",
       "      <td>01 Jan 2025</td>\n",
       "      <td>08:02 PM</td>\n",
       "      <td>Fries</td>\n",
       "      <td>NaN</td>\n",
       "      <td>Food</td>\n",
       "      <td>Cash</td>\n",
       "      <td>NaN</td>\n",
       "      <td>100.0</td>\n",
       "      <td>973.27</td>\n",
       "    </tr>\n",
       "    <tr>\n",
       "      <th>4</th>\n",
       "      <td>02 Jan 2025</td>\n",
       "      <td>03:55 AM</td>\n",
       "      <td>Tea</td>\n",
       "      <td>NaN</td>\n",
       "      <td>Food</td>\n",
       "      <td>Cash</td>\n",
       "      <td>NaN</td>\n",
       "      <td>10.0</td>\n",
       "      <td>753.27</td>\n",
       "    </tr>\n",
       "  </tbody>\n",
       "</table>\n",
       "</div>"
      ],
      "text/plain": [
       "          Date      Time        Remark  Party Category  Mode  Cash In  \\\n",
       "0  01 Jan 2025  11:27 AM  Pocket Money    NaN     Home  Cash  1073.27   \n",
       "1  01 Jan 2025  08:02 PM      Sandwich    NaN     Food  Cash      NaN   \n",
       "2  01 Jan 2025  08:02 PM        Coffee    NaN     Food  Cash      NaN   \n",
       "3  01 Jan 2025  08:02 PM         Fries    NaN     Food  Cash      NaN   \n",
       "4  02 Jan 2025  03:55 AM           Tea    NaN     Food  Cash      NaN   \n",
       "\n",
       "   Cash Out  Balance  \n",
       "0       NaN  1073.27  \n",
       "1      80.0   873.27  \n",
       "2      20.0   953.27  \n",
       "3     100.0   973.27  \n",
       "4      10.0   753.27  "
      ]
     },
     "execution_count": 48,
     "metadata": {},
     "output_type": "execute_result"
    }
   ],
   "source": [
    "df.head()"
   ]
  },
  {
   "cell_type": "code",
   "execution_count": 49,
   "metadata": {},
   "outputs": [
    {
     "data": {
      "text/html": [
       "<div>\n",
       "<style scoped>\n",
       "    .dataframe tbody tr th:only-of-type {\n",
       "        vertical-align: middle;\n",
       "    }\n",
       "\n",
       "    .dataframe tbody tr th {\n",
       "        vertical-align: top;\n",
       "    }\n",
       "\n",
       "    .dataframe thead th {\n",
       "        text-align: right;\n",
       "    }\n",
       "</style>\n",
       "<table border=\"1\" class=\"dataframe\">\n",
       "  <thead>\n",
       "    <tr style=\"text-align: right;\">\n",
       "      <th></th>\n",
       "      <th>Date</th>\n",
       "      <th>Time</th>\n",
       "      <th>Remark</th>\n",
       "      <th>Party</th>\n",
       "      <th>Category</th>\n",
       "      <th>Mode</th>\n",
       "      <th>Cash In</th>\n",
       "      <th>Cash Out</th>\n",
       "      <th>Balance</th>\n",
       "    </tr>\n",
       "  </thead>\n",
       "  <tbody>\n",
       "    <tr>\n",
       "      <th>395</th>\n",
       "      <td>27 May 2025</td>\n",
       "      <td>12:19 AM</td>\n",
       "      <td>Ice Cream</td>\n",
       "      <td>NaN</td>\n",
       "      <td>Food</td>\n",
       "      <td>Cash</td>\n",
       "      <td>NaN</td>\n",
       "      <td>20.0</td>\n",
       "      <td>19595.7</td>\n",
       "    </tr>\n",
       "    <tr>\n",
       "      <th>396</th>\n",
       "      <td>28 May 2025</td>\n",
       "      <td>04:22 PM</td>\n",
       "      <td>Flat Deposit</td>\n",
       "      <td>NaN</td>\n",
       "      <td>Rent</td>\n",
       "      <td>Cash</td>\n",
       "      <td>NaN</td>\n",
       "      <td>8400.0</td>\n",
       "      <td>11195.7</td>\n",
       "    </tr>\n",
       "    <tr>\n",
       "      <th>397</th>\n",
       "      <td>28 May 2025</td>\n",
       "      <td>09:24 PM</td>\n",
       "      <td>Rickshaw</td>\n",
       "      <td>NaN</td>\n",
       "      <td>Travel</td>\n",
       "      <td>Cash</td>\n",
       "      <td>NaN</td>\n",
       "      <td>80.0</td>\n",
       "      <td>11115.7</td>\n",
       "    </tr>\n",
       "    <tr>\n",
       "      <th>398</th>\n",
       "      <td>28 May 2025</td>\n",
       "      <td>09:24 PM</td>\n",
       "      <td>Rent</td>\n",
       "      <td>NaN</td>\n",
       "      <td>Rent</td>\n",
       "      <td>Cash</td>\n",
       "      <td>NaN</td>\n",
       "      <td>4200.0</td>\n",
       "      <td>6915.7</td>\n",
       "    </tr>\n",
       "    <tr>\n",
       "      <th>399</th>\n",
       "      <td>28 May 2025</td>\n",
       "      <td>09:26 PM</td>\n",
       "      <td>Bike</td>\n",
       "      <td>NaN</td>\n",
       "      <td>Travel</td>\n",
       "      <td>Cash</td>\n",
       "      <td>NaN</td>\n",
       "      <td>59.0</td>\n",
       "      <td>6856.7</td>\n",
       "    </tr>\n",
       "  </tbody>\n",
       "</table>\n",
       "</div>"
      ],
      "text/plain": [
       "            Date      Time        Remark  Party Category  Mode  Cash In  \\\n",
       "395  27 May 2025  12:19 AM     Ice Cream    NaN     Food  Cash      NaN   \n",
       "396  28 May 2025  04:22 PM  Flat Deposit    NaN     Rent  Cash      NaN   \n",
       "397  28 May 2025  09:24 PM      Rickshaw    NaN   Travel  Cash      NaN   \n",
       "398  28 May 2025  09:24 PM          Rent    NaN     Rent  Cash      NaN   \n",
       "399  28 May 2025  09:26 PM          Bike    NaN   Travel  Cash      NaN   \n",
       "\n",
       "     Cash Out  Balance  \n",
       "395      20.0  19595.7  \n",
       "396    8400.0  11195.7  \n",
       "397      80.0  11115.7  \n",
       "398    4200.0   6915.7  \n",
       "399      59.0   6856.7  "
      ]
     },
     "execution_count": 49,
     "metadata": {},
     "output_type": "execute_result"
    }
   ],
   "source": [
    "df.tail()"
   ]
  },
  {
   "cell_type": "markdown",
   "metadata": {
    "id": "WmZ9uhvQUdcc"
   },
   "source": [
    "# Data Preprocessing"
   ]
  },
  {
   "cell_type": "code",
   "execution_count": 50,
   "metadata": {
    "executionInfo": {
     "elapsed": 96,
     "status": "ok",
     "timestamp": 1739859717063,
     "user": {
      "displayName": "Rohan Movaliya",
      "userId": "01874944816231313758"
     },
     "user_tz": -330
    },
    "id": "pTjXWzCT0e8w"
   },
   "outputs": [],
   "source": [
    "columns_to_delete = ['Time', 'Party','Mode','Balance']\n",
    "df = df.drop(columns=columns_to_delete)"
   ]
  },
  {
   "cell_type": "code",
   "execution_count": 51,
   "metadata": {
    "colab": {
     "base_uri": "https://localhost:8080/",
     "height": 206
    },
    "executionInfo": {
     "elapsed": 95,
     "status": "ok",
     "timestamp": 1739859717063,
     "user": {
      "displayName": "Rohan Movaliya",
      "userId": "01874944816231313758"
     },
     "user_tz": -330
    },
    "id": "tiElDj1o0lh7",
    "outputId": "0e965053-4b0c-4d9d-d3b4-6eafd22072e3"
   },
   "outputs": [
    {
     "data": {
      "text/html": [
       "<div>\n",
       "<style scoped>\n",
       "    .dataframe tbody tr th:only-of-type {\n",
       "        vertical-align: middle;\n",
       "    }\n",
       "\n",
       "    .dataframe tbody tr th {\n",
       "        vertical-align: top;\n",
       "    }\n",
       "\n",
       "    .dataframe thead th {\n",
       "        text-align: right;\n",
       "    }\n",
       "</style>\n",
       "<table border=\"1\" class=\"dataframe\">\n",
       "  <thead>\n",
       "    <tr style=\"text-align: right;\">\n",
       "      <th></th>\n",
       "      <th>Date</th>\n",
       "      <th>Remark</th>\n",
       "      <th>Category</th>\n",
       "      <th>Cash In</th>\n",
       "      <th>Cash Out</th>\n",
       "    </tr>\n",
       "  </thead>\n",
       "  <tbody>\n",
       "    <tr>\n",
       "      <th>0</th>\n",
       "      <td>01 Jan 2025</td>\n",
       "      <td>Pocket Money</td>\n",
       "      <td>Home</td>\n",
       "      <td>1073.27</td>\n",
       "      <td>NaN</td>\n",
       "    </tr>\n",
       "    <tr>\n",
       "      <th>1</th>\n",
       "      <td>01 Jan 2025</td>\n",
       "      <td>Sandwich</td>\n",
       "      <td>Food</td>\n",
       "      <td>NaN</td>\n",
       "      <td>80.0</td>\n",
       "    </tr>\n",
       "    <tr>\n",
       "      <th>2</th>\n",
       "      <td>01 Jan 2025</td>\n",
       "      <td>Coffee</td>\n",
       "      <td>Food</td>\n",
       "      <td>NaN</td>\n",
       "      <td>20.0</td>\n",
       "    </tr>\n",
       "    <tr>\n",
       "      <th>3</th>\n",
       "      <td>01 Jan 2025</td>\n",
       "      <td>Fries</td>\n",
       "      <td>Food</td>\n",
       "      <td>NaN</td>\n",
       "      <td>100.0</td>\n",
       "    </tr>\n",
       "    <tr>\n",
       "      <th>4</th>\n",
       "      <td>02 Jan 2025</td>\n",
       "      <td>Tea</td>\n",
       "      <td>Food</td>\n",
       "      <td>NaN</td>\n",
       "      <td>10.0</td>\n",
       "    </tr>\n",
       "  </tbody>\n",
       "</table>\n",
       "</div>"
      ],
      "text/plain": [
       "          Date        Remark Category  Cash In  Cash Out\n",
       "0  01 Jan 2025  Pocket Money     Home  1073.27       NaN\n",
       "1  01 Jan 2025      Sandwich     Food      NaN      80.0\n",
       "2  01 Jan 2025        Coffee     Food      NaN      20.0\n",
       "3  01 Jan 2025         Fries     Food      NaN     100.0\n",
       "4  02 Jan 2025           Tea     Food      NaN      10.0"
      ]
     },
     "execution_count": 51,
     "metadata": {},
     "output_type": "execute_result"
    }
   ],
   "source": [
    "df.head()"
   ]
  },
  {
   "cell_type": "code",
   "execution_count": 52,
   "metadata": {
    "colab": {
     "base_uri": "https://localhost:8080/"
    },
    "executionInfo": {
     "elapsed": 94,
     "status": "ok",
     "timestamp": 1739859717063,
     "user": {
      "displayName": "Rohan Movaliya",
      "userId": "01874944816231313758"
     },
     "user_tz": -330
    },
    "id": "YENU_OvJ0rAc",
    "outputId": "76342e40-b755-46b1-d51b-9854c860593b"
   },
   "outputs": [
    {
     "name": "stdout",
     "output_type": "stream",
     "text": [
      "No duplicate rows found.\n"
     ]
    }
   ],
   "source": [
    "# Check for duplicate rows\n",
    "duplicates = df.duplicated()\n",
    "\n",
    "if duplicates.any():\n",
    "    print(\"Duplicate rows found:\")\n",
    "    print(df[duplicates])\n",
    "else:\n",
    "    print(\"No duplicate rows found.\")"
   ]
  },
  {
   "cell_type": "code",
   "execution_count": 53,
   "metadata": {
    "colab": {
     "base_uri": "https://localhost:8080/"
    },
    "executionInfo": {
     "elapsed": 89,
     "status": "ok",
     "timestamp": 1739859717064,
     "user": {
      "displayName": "Rohan Movaliya",
      "userId": "01874944816231313758"
     },
     "user_tz": -330
    },
    "id": "DV_QwJDNWRcW",
    "outputId": "972f694b-8099-473b-d6c6-f273a2186d5d"
   },
   "outputs": [
    {
     "name": "stdout",
     "output_type": "stream",
     "text": [
      "Number of NaN values in 'Category': 0\n"
     ]
    }
   ],
   "source": [
    "# Count NaN values in the 'Category' column\n",
    "nan_count = df['Category'].isna().sum()\n",
    "print(f\"Number of NaN values in 'Category': {nan_count}\")"
   ]
  },
  {
   "cell_type": "markdown",
   "metadata": {
    "id": "zTWxfZehM8iw"
   },
   "source": [
    "# CASH IN"
   ]
  },
  {
   "cell_type": "code",
   "execution_count": 54,
   "metadata": {
    "colab": {
     "base_uri": "https://localhost:8080/"
    },
    "executionInfo": {
     "elapsed": 87,
     "status": "ok",
     "timestamp": 1739859717064,
     "user": {
      "displayName": "Rohan Movaliya",
      "userId": "01874944816231313758"
     },
     "user_tz": -330
    },
    "id": "jzX0BjhoVhkk",
    "outputId": "a712485d-1033-4049-8416-42bc55092eab"
   },
   "outputs": [
    {
     "name": "stdout",
     "output_type": "stream",
     "text": [
      "Rows where 'Cash In' is not null:\n",
      "            Date        Remark Category   Cash In  Cash Out\n",
      "0    01 Jan 2025  Pocket Money     Home   1073.27       NaN\n",
      "19   06 Jan 2025  Pocket Money     Home   3000.00       NaN\n",
      "54   23 Jan 2025  Pocket Money     Home   2000.00       NaN\n",
      "96   14 Feb 2025  Pocket Money     Home   1500.00       NaN\n",
      "115  24 Feb 2025  Pocket Money     Home   2000.00       NaN\n",
      "138  07 Mar 2025  Pocket Money     Home   2000.00       NaN\n",
      "156  13 Mar 2025  Pocket Money     Home   5500.00       NaN\n",
      "158  13 Mar 2025    Scolarship    Other  20000.00       NaN\n",
      "170  19 Mar 2025  Pocket Money     Home   3500.00       NaN\n",
      "233  11 Apr 2025  Pocket Money     Home   3000.00       NaN\n",
      "243  15 Apr 2025  Pocket Money     Home   1500.00       NaN\n",
      "244  16 Apr 2025  Pocket Money     Home   1250.00       NaN\n",
      "285  24 Apr 2025  Pocket Money     Home   3000.00       NaN\n",
      "317  05 May 2025  Pocket Money     Home   2000.00       NaN\n",
      "340  12 May 2025  Pocket Money     Home   2000.00       NaN\n",
      "363  18 May 2025  Pocket Money     Home   6000.00       NaN\n"
     ]
    }
   ],
   "source": [
    "# Filter rows where 'Cash In' is not null\n",
    "cash_in_not_null = df[df['Cash In'].notnull()]\n",
    "\n",
    "# Display the filtered DataFrame\n",
    "print(\"Rows where 'Cash In' is not null:\")\n",
    "print(cash_in_not_null)"
   ]
  },
  {
   "cell_type": "markdown",
   "metadata": {
    "id": "xjhie080NJSV"
   },
   "source": [
    "# CASH OUT"
   ]
  },
  {
   "cell_type": "code",
   "execution_count": 55,
   "metadata": {
    "colab": {
     "base_uri": "https://localhost:8080/"
    },
    "executionInfo": {
     "elapsed": 84,
     "status": "ok",
     "timestamp": 1739859717064,
     "user": {
      "displayName": "Rohan Movaliya",
      "userId": "01874944816231313758"
     },
     "user_tz": -330
    },
    "id": "H5mDOybzfDQ0",
    "outputId": "1148414a-c2a5-42f2-d5aa-9da1dbcff85b"
   },
   "outputs": [
    {
     "name": "stdout",
     "output_type": "stream",
     "text": [
      "Grouped Data:\n",
      "              Cash In  Cash Out\n",
      "Category                       \n",
      "Basic            0.00   1488.00\n",
      "Clothes          0.00   4774.00\n",
      "College          0.00   6157.00\n",
      "Food             0.00  16122.92\n",
      "Health           0.00   1555.00\n",
      "Home         39323.27      0.00\n",
      "Maintenance      0.00    850.00\n",
      "Other        20000.00   1336.00\n",
      "Phone            0.00   1466.90\n",
      "Rent             0.00  12600.00\n",
      "Travel           0.00   6116.75\n"
     ]
    }
   ],
   "source": [
    "if 'Category' in df.columns:\n",
    "    grouped_df = df.groupby('Category').sum(numeric_only=True)\n",
    "    print(\"Grouped Data:\")\n",
    "    print(grouped_df)\n",
    "else:\n",
    "    print(\"The 'Category' column is not present in the DataFrame.\")"
   ]
  },
  {
   "cell_type": "markdown",
   "metadata": {
    "id": "5yVkVcYJUPah"
   },
   "source": [
    "### Basic"
   ]
  },
  {
   "cell_type": "code",
   "execution_count": 56,
   "metadata": {
    "colab": {
     "base_uri": "https://localhost:8080/"
    },
    "executionInfo": {
     "elapsed": 83,
     "status": "ok",
     "timestamp": 1739859717064,
     "user": {
      "displayName": "Rohan Movaliya",
      "userId": "01874944816231313758"
     },
     "user_tz": -330
    },
    "id": "m-McA4IZhhkP",
    "outputId": "2fa58b36-fb55-4e83-950d-1477870ac3f9"
   },
   "outputs": [
    {
     "name": "stdout",
     "output_type": "stream",
     "text": [
      "Rows where 'Category' is 'Basic':\n",
      "            Date                    Remark Category  Cash In  Cash Out\n",
      "10   03 Jan 2025                Toothpaste    Basic      NaN      20.0\n",
      "32   11 Jan 2025      Gillette Guard Blade    Basic      NaN     110.0\n",
      "60   25 Jan 2025                    Bottle    Basic      NaN      39.0\n",
      "78   07 Feb 2025                   Shampoo    Basic      NaN      20.0\n",
      "94   13 Feb 2025                    Bottle    Basic      NaN      80.0\n",
      "149  12 Mar 2025                Toothbrush    Basic      NaN      70.0\n",
      "153  12 Mar 2025                 Face Wash    Basic      NaN      30.0\n",
      "164  16 Mar 2025                 Body Wash    Basic      NaN      92.0\n",
      "172  20 Mar 2025              Hair Cutting    Basic      NaN     200.0\n",
      "198  29 Mar 2025               Box Cricket    Basic      NaN     170.0\n",
      "227  10 Apr 2025             Talcum Powder    Basic      NaN     139.0\n",
      "228  10 Apr 2025  Dettole Antiseptic Water    Basic      NaN      40.0\n",
      "280  23 Apr 2025      Zudio Perfume Salasa    Basic      NaN      79.0\n",
      "302  29 Apr 2025                 Body Wash    Basic      NaN      49.0\n",
      "336  12 May 2025              Hair Cutting    Basic      NaN     200.0\n",
      "337  12 May 2025       Passport size photo    Basic      NaN     100.0\n",
      "388  26 May 2025                Toothpaste    Basic      NaN      20.0\n",
      "390  26 May 2025          Ear Cotton Stick    Basic      NaN      30.0\n"
     ]
    }
   ],
   "source": [
    "rows_with_basic = df[df['Category'] == 'Basic']\n",
    "\n",
    "print(\"Rows where 'Category' is 'Basic':\")\n",
    "print(rows_with_basic)"
   ]
  },
  {
   "cell_type": "code",
   "execution_count": 57,
   "metadata": {
    "colab": {
     "base_uri": "https://localhost:8080/"
    },
    "executionInfo": {
     "elapsed": 81,
     "status": "ok",
     "timestamp": 1739859717064,
     "user": {
      "displayName": "Rohan Movaliya",
      "userId": "01874944816231313758"
     },
     "user_tz": -330
    },
    "id": "XCe1iFHPGhhm",
    "outputId": "9a9632b7-e150-4032-ebf4-816386e56d30"
   },
   "outputs": [
    {
     "name": "stdout",
     "output_type": "stream",
     "text": [
      "Grouped Data:\n",
      "                          Cash In  Cash Out\n",
      "Remark                                     \n",
      "Body Wash                     0.0     141.0\n",
      "Bottle                        0.0     119.0\n",
      "Box Cricket                   0.0     170.0\n",
      "Dettole Antiseptic Water      0.0      40.0\n",
      "Ear Cotton Stick              0.0      30.0\n",
      "Face Wash                     0.0      30.0\n",
      "Gillette Guard Blade          0.0     110.0\n",
      "Hair Cutting                  0.0     400.0\n",
      "Passport size photo           0.0     100.0\n",
      "Shampoo                       0.0      20.0\n",
      "Talcum Powder                 0.0     139.0\n",
      "Toothbrush                    0.0      70.0\n",
      "Toothpaste                    0.0      40.0\n",
      "Zudio Perfume Salasa          0.0      79.0\n"
     ]
    }
   ],
   "source": [
    "grouped_df = rows_with_basic.groupby('Remark').sum(numeric_only=True)\n",
    "print(\"Grouped Data:\")\n",
    "print(grouped_df)"
   ]
  },
  {
   "cell_type": "markdown",
   "metadata": {
    "id": "lDVzF-UKiA0o"
   },
   "source": [
    "### Clothes"
   ]
  },
  {
   "cell_type": "code",
   "execution_count": 58,
   "metadata": {
    "colab": {
     "base_uri": "https://localhost:8080/"
    },
    "executionInfo": {
     "elapsed": 79,
     "status": "ok",
     "timestamp": 1739859717064,
     "user": {
      "displayName": "Rohan Movaliya",
      "userId": "01874944816231313758"
     },
     "user_tz": -330
    },
    "id": "69oAH2mZiED7",
    "outputId": "34e8109b-e2a1-4d27-8eba-110e9cd5ca27"
   },
   "outputs": [
    {
     "name": "stdout",
     "output_type": "stream",
     "text": [
      "Rows where 'Category' is 'Basic':\n",
      "            Date                          Remark Category  Cash In  Cash Out\n",
      "22   06 Jan 2025  Men Shirt with Band Collar | M  Clothes      NaN     463.5\n",
      "42   15 Jan 2025                 Clothes Washing  Clothes      NaN      30.0\n",
      "77   06 Feb 2025                 Clothes Washing  Clothes      NaN      35.0\n",
      "84   11 Feb 2025                 Clothes Washing  Clothes      NaN      50.0\n",
      "103  18 Feb 2025                 Clothes Washing  Clothes      NaN      20.0\n",
      "108  21 Feb 2025                 Clothes Washing  Clothes      NaN      10.0\n",
      "111  22 Feb 2025                 Clothes Washing  Clothes      NaN      34.0\n",
      "148  12 Mar 2025                Zudio Black Vest  Clothes      NaN     299.0\n",
      "152  12 Mar 2025                 Clothes Washing  Clothes      NaN      20.0\n",
      "205  01 Apr 2025                 Clothes Washing  Clothes      NaN      10.0\n",
      "235  13 Apr 2025                 CK Black Tshirt  Clothes      NaN    1000.0\n",
      "251  17 Apr 2025          Cool Colors Blue Shirt  Clothes      NaN     827.0\n",
      "256  17 Apr 2025    Cool Colors Black-Gray Shirt  Clothes      NaN     887.0\n",
      "263  19 Apr 2025                  Sky Blue Jeans  Clothes      NaN     849.5\n",
      "279  23 Apr 2025                    Zudio Shorts  Clothes      NaN     199.0\n",
      "287  25 Apr 2025                 Clothes Washing  Clothes      NaN      20.0\n",
      "308  01 May 2025                 Clothes Washing  Clothes      NaN      20.0\n"
     ]
    }
   ],
   "source": [
    "rows_with_clothes = df[df['Category'] == 'Clothes']\n",
    "\n",
    "print(\"Rows where 'Category' is 'Basic':\")\n",
    "print(rows_with_clothes)"
   ]
  },
  {
   "cell_type": "code",
   "execution_count": 59,
   "metadata": {
    "colab": {
     "base_uri": "https://localhost:8080/"
    },
    "executionInfo": {
     "elapsed": 78,
     "status": "ok",
     "timestamp": 1739859717064,
     "user": {
      "displayName": "Rohan Movaliya",
      "userId": "01874944816231313758"
     },
     "user_tz": -330
    },
    "id": "pdqZgS69iD0w",
    "outputId": "747a05a2-53c7-46e0-9e2d-89039d0c916a"
   },
   "outputs": [
    {
     "name": "stdout",
     "output_type": "stream",
     "text": [
      "Grouped Data:\n",
      "                                Cash In  Cash Out\n",
      "Remark                                           \n",
      "CK Black Tshirt                     0.0    1000.0\n",
      "Clothes Washing                     0.0     249.0\n",
      "Cool Colors Black-Gray Shirt        0.0     887.0\n",
      "Cool Colors Blue Shirt              0.0     827.0\n",
      "Men Shirt with Band Collar | M      0.0     463.5\n",
      "Sky Blue Jeans                      0.0     849.5\n",
      "Zudio Black Vest                    0.0     299.0\n",
      "Zudio Shorts                        0.0     199.0\n"
     ]
    }
   ],
   "source": [
    "grouped_df = rows_with_clothes.groupby('Remark').sum(numeric_only=True)\n",
    "print(\"Grouped Data:\")\n",
    "print(grouped_df)"
   ]
  },
  {
   "cell_type": "markdown",
   "metadata": {
    "id": "Z94EFrw0UE0y"
   },
   "source": [
    "### Collage"
   ]
  },
  {
   "cell_type": "code",
   "execution_count": 60,
   "metadata": {
    "colab": {
     "base_uri": "https://localhost:8080/"
    },
    "executionInfo": {
     "elapsed": 77,
     "status": "ok",
     "timestamp": 1739859717065,
     "user": {
      "displayName": "Rohan Movaliya",
      "userId": "01874944816231313758"
     },
     "user_tz": -330
    },
    "id": "ysrd1a6Lhhg1",
    "outputId": "041e9d26-3c7d-4dd2-bcc4-537007a6eaba"
   },
   "outputs": [
    {
     "name": "stdout",
     "output_type": "stream",
     "text": [
      "Rows where 'Category' is 'College':\n",
      "            Date                          Remark Category  Cash In  Cash Out\n",
      "14   04 Jan 2025                      Stationery  College      NaN      13.0\n",
      "109  21 Feb 2025                      Stationery  College      NaN      14.0\n",
      "123  28 Feb 2025                      Stationery  College      NaN      10.0\n",
      "167  17 Mar 2025                       Exam Fees  College      NaN    2500.0\n",
      "168  17 Mar 2025                Convocation Fees  College      NaN    3000.0\n",
      "176  20 Mar 2025                      Stationery  College      NaN      10.0\n",
      "281  23 Apr 2025  Report Binding + Report Spiral  College      NaN     560.0\n",
      "288  25 Apr 2025                      Stationery  College      NaN      10.0\n",
      "316  05 May 2025                      Stationery  College      NaN      10.0\n",
      "329  08 May 2025                      Stationery  College      NaN      20.0\n",
      "346  13 May 2025                      Stationery  College      NaN      10.0\n"
     ]
    }
   ],
   "source": [
    "rows_with_collage = df[df['Category'] == 'College']\n",
    "\n",
    "print(\"Rows where 'Category' is 'College':\")\n",
    "print(rows_with_collage)"
   ]
  },
  {
   "cell_type": "code",
   "execution_count": 61,
   "metadata": {
    "colab": {
     "base_uri": "https://localhost:8080/"
    },
    "executionInfo": {
     "elapsed": 75,
     "status": "ok",
     "timestamp": 1739859717065,
     "user": {
      "displayName": "Rohan Movaliya",
      "userId": "01874944816231313758"
     },
     "user_tz": -330
    },
    "id": "ton235AyGCOf",
    "outputId": "e07e115b-c13b-41ed-ea3c-9f047df3038b"
   },
   "outputs": [
    {
     "name": "stdout",
     "output_type": "stream",
     "text": [
      "Grouped Data:\n",
      "                                Cash In  Cash Out\n",
      "Remark                                           \n",
      "Convocation Fees                    0.0    3000.0\n",
      "Exam Fees                           0.0    2500.0\n",
      "Report Binding + Report Spiral      0.0     560.0\n",
      "Stationery                          0.0      97.0\n"
     ]
    }
   ],
   "source": [
    "grouped_df = rows_with_collage.groupby('Remark').sum(numeric_only=True)\n",
    "print(\"Grouped Data:\")\n",
    "print(grouped_df)"
   ]
  },
  {
   "cell_type": "markdown",
   "metadata": {
    "id": "JLmDDA22T9MS"
   },
   "source": [
    "### Food"
   ]
  },
  {
   "cell_type": "code",
   "execution_count": 62,
   "metadata": {
    "colab": {
     "base_uri": "https://localhost:8080/"
    },
    "executionInfo": {
     "elapsed": 74,
     "status": "ok",
     "timestamp": 1739859717065,
     "user": {
      "displayName": "Rohan Movaliya",
      "userId": "01874944816231313758"
     },
     "user_tz": -330
    },
    "id": "A0hBalPihhcB",
    "outputId": "8865c04b-4162-4399-ed95-8ed00b0531b7"
   },
   "outputs": [
    {
     "name": "stdout",
     "output_type": "stream",
     "text": [
      "Rows where 'Category' is 'Food':\n",
      "            Date            Remark Category  Cash In  Cash Out\n",
      "1    01 Jan 2025          Sandwich     Food      NaN     80.00\n",
      "2    01 Jan 2025            Coffee     Food      NaN     20.00\n",
      "3    01 Jan 2025             Fries     Food      NaN    100.00\n",
      "4    02 Jan 2025               Tea     Food      NaN     10.00\n",
      "5    02 Jan 2025              Puff     Food      NaN     30.00\n",
      "6    02 Jan 2025             Maggi     Food      NaN     80.00\n",
      "7    02 Jan 2025           Bhajiya     Food      NaN     46.67\n",
      "8    02 Jan 2025           Gathiya     Food      NaN     45.00\n",
      "9    03 Jan 2025       Soup Packet     Food      NaN     20.00\n",
      "11   03 Jan 2025        Manchurian     Food      NaN    110.00\n",
      "12   03 Jan 2025          Panipuri     Food      NaN     20.00\n",
      "15   04 Jan 2025            Samosa     Food      NaN     40.00\n",
      "16   04 Jan 2025           Khandvi     Food      NaN     30.00\n",
      "17   05 Jan 2025            Wafers     Food      NaN     40.00\n",
      "18   05 Jan 2025           Biscuit     Food      NaN     40.00\n",
      "23   06 Jan 2025           Bhajiya     Food      NaN     40.00\n",
      "24   06 Jan 2025             Fries     Food      NaN     40.00\n",
      "25   06 Jan 2025          Panipuri     Food      NaN     20.00\n",
      "26   06 Jan 2025           Gathiya     Food      NaN     40.00\n",
      "27   07 Jan 2025            Sopari     Food      NaN     20.00\n",
      "28   09 Jan 2025             Fries     Food      NaN     90.00\n",
      "29   09 Jan 2025           Vadapav     Food      NaN    100.00\n",
      "30   10 Jan 2025               Tea     Food      NaN     40.00\n",
      "33   12 Jan 2025             Fries     Food      NaN     30.00\n",
      "34   12 Jan 2025           Gathiya     Food      NaN     50.00\n",
      "35   12 Jan 2025        Cold Drink     Food      NaN     22.00\n",
      "36   12 Jan 2025           Bhajiya     Food      NaN     50.00\n",
      "37   13 Jan 2025           Popcorn     Food      NaN     35.00\n",
      "38   13 Jan 2025           Vadapav     Food      NaN     60.00\n",
      "39   13 Jan 2025             Pizza     Food      NaN    232.50\n",
      "40   14 Jan 2025            Thepla     Food      NaN     60.67\n",
      "41   15 Jan 2025         Chocolate     Food      NaN     20.00\n",
      "43   17 Jan 2025            Sopari     Food      NaN     20.00\n",
      "44   17 Jan 2025         Chocolate     Food      NaN     10.00\n",
      "45   18 Jan 2025             Pizza     Food      NaN    208.75\n",
      "46   20 Jan 2025        Manchurian     Food      NaN     47.84\n",
      "47   20 Jan 2025        Cold Drink     Food      NaN     20.00\n",
      "48   20 Jan 2025           Bhajiya     Food      NaN     40.00\n",
      "49   20 Jan 2025             Fries     Food      NaN     40.00\n",
      "51   22 Jan 2025          Chatuney     Food      NaN     50.00\n",
      "52   22 Jan 2025         Chocolate     Food      NaN     20.00\n",
      "53   23 Jan 2025             Fries     Food      NaN    100.00\n",
      "56   24 Jan 2025              Puff     Food      NaN     25.00\n",
      "57   25 Jan 2025           Popcorn     Food      NaN     70.00\n",
      "58   25 Jan 2025  Black Dry Grapes     Food      NaN     45.00\n",
      "59   25 Jan 2025           Biscuit     Food      NaN     79.00\n",
      "61   25 Jan 2025       Soup Packet     Food      NaN     45.00\n",
      "62   26 Jan 2025            Sopari     Food      NaN     50.00\n",
      "63   27 Jan 2025             Pizza     Food      NaN    208.00\n",
      "64   28 Jan 2025               Tea     Food      NaN     20.00\n",
      "65   28 Jan 2025           Vadapav     Food      NaN     30.00\n",
      "68   30 Jan 2025         Ice Cream     Food      NaN     75.00\n",
      "69   30 Jan 2025      Panjabi Food     Food      NaN    352.33\n",
      "70   31 Jan 2025              Puff     Food      NaN    155.00\n",
      "72   31 Jan 2025      Chole Kulche     Food      NaN     70.00\n",
      "73   31 Jan 2025        Cold Drink     Food      NaN     20.00\n",
      "74   31 Jan 2025             Pizza     Food      NaN     91.00\n",
      "79   07 Feb 2025          Sandwich     Food      NaN    200.00\n",
      "80   10 Feb 2025           Vadapav     Food      NaN    105.00\n",
      "81   10 Feb 2025         Ice Cream     Food      NaN    100.00\n",
      "82   10 Feb 2025        Cold Drink     Food      NaN     20.00\n",
      "83   10 Feb 2025             Pizza     Food      NaN    155.00\n",
      "85   11 Feb 2025           Khandvi     Food      NaN     46.67\n",
      "86   11 Feb 2025        Sev Khamni     Food      NaN     20.00\n",
      "87   12 Feb 2025            Wafers     Food      NaN     50.00\n",
      "88   12 Feb 2025              Puff     Food      NaN     25.00\n",
      "89   12 Feb 2025          Panipuri     Food      NaN     40.00\n",
      "90   12 Feb 2025             Pizza     Food      NaN    130.00\n",
      "91   12 Feb 2025        Cold Drink     Food      NaN     20.00\n",
      "93   13 Feb 2025             Pizza     Food      NaN    460.00\n",
      "97   15 Feb 2025            Wafers     Food      NaN     30.00\n",
      "98   15 Feb 2025            Coffee     Food      NaN     25.00\n",
      "99   16 Feb 2025             Pizza     Food      NaN     69.50\n",
      "101  17 Feb 2025            Wafers     Food      NaN     50.00\n",
      "104  19 Feb 2025      Office Lunch     Food      NaN     70.00\n",
      "106  20 Feb 2025         Chocolate     Food      NaN     20.00\n",
      "110  21 Feb 2025            Wafers     Food      NaN     30.00\n",
      "112  22 Feb 2025             Pizza     Food      NaN     45.00\n",
      "113  23 Feb 2025            Wafers     Food      NaN     20.00\n",
      "116  25 Feb 2025              Bhel     Food      NaN     60.00\n",
      "117  26 Feb 2025      Office Lunch     Food      NaN     80.00\n",
      "119  26 Feb 2025             Pizza     Food      NaN    274.00\n",
      "120  28 Feb 2025          Panipuri     Food      NaN     20.00\n",
      "121  28 Feb 2025             Pices     Food      NaN     20.00\n",
      "122  28 Feb 2025          Sandwich     Food      NaN     25.00\n",
      "125  28 Feb 2025        Watermelon     Food      NaN     33.57\n",
      "126  28 Feb 2025             Maggi     Food      NaN     80.00\n",
      "127  01 Mar 2025        Watermelon     Food      NaN     60.00\n",
      "130  03 Mar 2025          Sandwich     Food      NaN     55.00\n",
      "131  03 Mar 2025           Biscuit     Food      NaN     10.00\n",
      "132  04 Mar 2025             Pizza     Food      NaN    360.00\n",
      "134  05 Mar 2025          Sandwich     Food      NaN     30.00\n",
      "135  06 Mar 2025            Wafers     Food      NaN     20.00\n",
      "139  08 Mar 2025            Wafers     Food      NaN     20.00\n",
      "140  08 Mar 2025             Dhosa     Food      NaN    302.50\n",
      "141  08 Mar 2025         Ice Cream     Food      NaN     22.00\n",
      "142  09 Mar 2025             Pizza     Food      NaN    245.00\n",
      "143  11 Mar 2025            Wafers     Food      NaN     50.00\n",
      "144  11 Mar 2025         Ice Cream     Food      NaN     40.00\n",
      "146  12 Mar 2025          Sandwich     Food      NaN     30.00\n",
      "147  12 Mar 2025        Cold Drink     Food      NaN     20.00\n",
      "150  12 Mar 2025      Maggi Masala     Food      NaN     10.00\n",
      "151  12 Mar 2025         Chocolate     Food      NaN     16.00\n",
      "154  12 Mar 2025            Wafers     Food      NaN     40.00\n",
      "155  12 Mar 2025         Ice Cream     Food      NaN     20.00\n",
      "159  15 Mar 2025      Panjabi Food     Food      NaN    100.00\n",
      "160  15 Mar 2025         Ice Cream     Food      NaN    210.00\n",
      "161  15 Mar 2025        Manchurian     Food      NaN    110.00\n",
      "162  15 Mar 2025        Cold Drink     Food      NaN     20.00\n",
      "163  16 Mar 2025           Popcorn     Food      NaN     50.00\n",
      "165  16 Mar 2025             Pizza     Food      NaN     89.00\n",
      "173  20 Mar 2025          Panipuri     Food      NaN     20.00\n",
      "174  20 Mar 2025           Vadapav     Food      NaN     60.00\n",
      "175  20 Mar 2025        Cold Drink     Food      NaN     20.00\n",
      "177  21 Mar 2025            Wafers     Food      NaN     70.00\n",
      "178  21 Mar 2025            Grapes     Food      NaN     95.66\n",
      "179  22 Mar 2025        Watermelon     Food      NaN     39.17\n",
      "180  22 Mar 2025         Ice Cream     Food      NaN     65.00\n",
      "181  23 Mar 2025        Cold Drink     Food      NaN     20.00\n",
      "182  23 Mar 2025        Mendu Vada     Food      NaN     53.34\n",
      "183  23 Mar 2025            Wafers     Food      NaN     40.00\n",
      "184  23 Mar 2025           Biscuit     Food      NaN     10.00\n",
      "189  28 Mar 2025            Wafers     Food      NaN     30.00\n",
      "190  28 Mar 2025          Panipuri     Food      NaN     40.00\n",
      "191  28 Mar 2025         Ice Cream     Food      NaN     20.00\n",
      "192  28 Mar 2025           Biscuit     Food      NaN     10.00\n",
      "193  29 Mar 2025             Pizza     Food      NaN    371.00\n",
      "194  29 Mar 2025           Bhajiya     Food      NaN     72.00\n",
      "195  29 Mar 2025             Chips     Food      NaN     60.00\n",
      "196  29 Mar 2025           Frenkie     Food      NaN    140.00\n",
      "197  29 Mar 2025        Cold Drink     Food      NaN     20.00\n",
      "199  30 Mar 2025           Biscuit     Food      NaN     20.00\n",
      "200  30 Mar 2025            Wafers     Food      NaN     30.00\n",
      "201  31 Mar 2025         Ice Cream     Food      NaN     45.00\n",
      "203  31 Mar 2025             Maggi     Food      NaN     30.00\n",
      "204  31 Mar 2025              Puff     Food      NaN     30.00\n",
      "207  02 Apr 2025             Pizza     Food      NaN     96.00\n",
      "209  04 Apr 2025         Ice Cream     Food      NaN     20.00\n",
      "210  04 Apr 2025            Wafers     Food      NaN     20.00\n",
      "212  05 Apr 2025        Watermelon     Food      NaN     96.00\n",
      "213  06 Apr 2025           Biscuit     Food      NaN     60.00\n",
      "214  06 Apr 2025            Wafers     Food      NaN     40.00\n",
      "215  06 Apr 2025        Cold Drink     Food      NaN     20.00\n",
      "216  07 Apr 2025        Watermelon     Food      NaN     50.00\n",
      "219  08 Apr 2025          Panipuri     Food      NaN     40.00\n",
      "220  08 Apr 2025             Pizza     Food      NaN    156.44\n",
      "221  08 Apr 2025          Sandwich     Food      NaN     30.00\n",
      "222  08 Apr 2025        Watermelon     Food      NaN     15.00\n",
      "223  09 Apr 2025              Bhel     Food      NaN     60.00\n",
      "225  09 Apr 2025         Ice Cream     Food      NaN     40.00\n",
      "230  11 Apr 2025           Biscuit     Food      NaN     40.00\n",
      "231  11 Apr 2025            Wafers     Food      NaN     10.00\n",
      "232  11 Apr 2025            Wafers     Food      NaN     70.00\n",
      "236  13 Apr 2025       Aagman Thal     Food      NaN    350.00\n",
      "238  14 Apr 2025            Wafers     Food      NaN     30.00\n",
      "240  15 Apr 2025          Sandwich     Food      NaN     75.00\n",
      "241  15 Apr 2025         Ice Cream     Food      NaN     20.00\n",
      "242  15 Apr 2025          Ice Dish     Food      NaN     90.00\n",
      "245  16 Apr 2025        Cold Drink     Food      NaN     20.00\n",
      "246  16 Apr 2025            Wafers     Food      NaN     15.00\n",
      "248  16 Apr 2025              Puff     Food      NaN     30.00\n",
      "249  16 Apr 2025          Ice Dish     Food      NaN     50.00\n",
      "252  17 Apr 2025        Cold Drink     Food      NaN     30.00\n",
      "253  17 Apr 2025             Pulav     Food      NaN    100.00\n",
      "254  17 Apr 2025          Sandwich     Food      NaN    100.00\n",
      "255  17 Apr 2025         Ice Cream     Food      NaN     50.00\n",
      "258  18 Apr 2025        Cold Drink     Food      NaN     55.00\n",
      "259  18 Apr 2025        Manchurian     Food      NaN     35.00\n",
      "260  18 Apr 2025            Wafers     Food      NaN     20.00\n",
      "261  19 Apr 2025        Cold Drink     Food      NaN     40.00\n",
      "262  19 Apr 2025            Wafers     Food      NaN     30.00\n",
      "264  19 Apr 2025      Panjabi Food     Food      NaN    133.00\n",
      "265  19 Apr 2025          Ice Dish     Food      NaN     34.00\n",
      "266  20 Apr 2025          Panipuri     Food      NaN     20.00\n",
      "267  20 Apr 2025         Chorafali     Food      NaN     23.33\n",
      "268  20 Apr 2025        Cold Drink     Food      NaN     20.00\n",
      "269  20 Apr 2025         Ice Cream     Food      NaN     45.00\n",
      "271  21 Apr 2025            Wafers     Food      NaN     20.00\n",
      "273  22 Apr 2025      Office Lunch     Food      NaN     80.00\n",
      "274  22 Apr 2025         Ice Cream     Food      NaN     20.00\n",
      "278  23 Apr 2025        Macdonalds     Food      NaN    114.88\n",
      "283  24 Apr 2025      Office Lunch     Food      NaN     80.00\n",
      "289  26 Apr 2025            Wafers     Food      NaN     30.00\n",
      "290  26 Apr 2025           Biscuit     Food      NaN     10.00\n",
      "292  26 Apr 2025              Puff     Food      NaN     90.00\n",
      "293  27 Apr 2025          Panipuri     Food      NaN     53.66\n",
      "294  27 Apr 2025         Ice Cream     Food      NaN     20.00\n",
      "295  27 Apr 2025        Cold Drink     Food      NaN     63.00\n",
      "296  28 Apr 2025         Ice Cream     Food      NaN     20.00\n",
      "297  28 Apr 2025            Wafers     Food      NaN     40.00\n",
      "298  28 Apr 2025        Cold Drink     Food      NaN     20.00\n",
      "300  28 Apr 2025             Pizza     Food      NaN    123.90\n",
      "304  30 Apr 2025          Panipuri     Food      NaN     20.00\n",
      "306  01 May 2025            Wafers     Food      NaN     20.00\n",
      "307  01 May 2025        Cold Drink     Food      NaN     40.00\n",
      "309  02 May 2025         Ice Cream     Food      NaN     60.00\n",
      "311  03 May 2025             Pizza     Food      NaN    350.00\n",
      "312  04 May 2025         MacDonald     Food      NaN    219.00\n",
      "314  05 May 2025           Biscuit     Food      NaN     10.00\n",
      "315  05 May 2025            Wafers     Food      NaN     30.00\n",
      "318  06 May 2025            Samosa     Food      NaN     30.00\n",
      "319  06 May 2025        Cold Drink     Food      NaN     20.00\n",
      "321  06 May 2025            Wafers     Food      NaN     30.00\n",
      "322  06 May 2025         Chocolate     Food      NaN     20.00\n",
      "323  07 May 2025        Cold Drink     Food      NaN     10.00\n",
      "324  07 May 2025         Aloo Puri     Food      NaN     25.00\n",
      "325  07 May 2025            Khaman     Food      NaN     25.00\n",
      "326  07 May 2025        Sev Khamni     Food      NaN     25.00\n",
      "327  07 May 2025            Khausa     Food      NaN     25.00\n",
      "330  08 May 2025        Papa Luise     Food      NaN    354.34\n",
      "331  08 May 2025            Wafers     Food      NaN     25.00\n",
      "332  08 May 2025        Cold Drink     Food      NaN     10.00\n",
      "333  11 May 2025      Panjabi Food     Food      NaN    193.34\n",
      "334  11 May 2025        Cold Drink     Food      NaN     36.66\n",
      "338  12 May 2025          Panipuri     Food      NaN     40.00\n",
      "339  12 May 2025          Sandwich     Food      NaN     15.00\n",
      "341  13 May 2025        Sev khamni     Food      NaN     20.00\n",
      "342  13 May 2025            Khaman     Food      NaN     20.00\n",
      "343  13 May 2025           Khandvi     Food      NaN     20.00\n",
      "348  14 May 2025      Panjabi Food     Food      NaN    110.00\n",
      "349  14 May 2025        Cold Drink     Food      NaN     20.00\n",
      "350  14 May 2025         Chocolate     Food      NaN     10.00\n",
      "352  15 May 2025         Chocolate     Food      NaN    224.00\n",
      "353  15 May 2025         Ice Cream     Food      NaN     35.00\n",
      "354  15 May 2025        Cold Drink     Food      NaN     20.00\n",
      "355  15 May 2025          Ice Dish     Food      NaN     40.00\n",
      "356  15 May 2025             Momos     Food      NaN     40.00\n",
      "361  16 May 2025     Chhole Kulche     Food      NaN     70.00\n",
      "362  16 May 2025             Pizza     Food      NaN    197.40\n",
      "366  20 May 2025         Ice Cream     Food      NaN     60.00\n",
      "367  21 May 2025          Rickshaw     Food      NaN     80.00\n",
      "371  22 May 2025          Ice Dish     Food      NaN     40.00\n",
      "372  22 May 2025         Ice Cream     Food      NaN     20.00\n",
      "373  22 May 2025   Sugarcane Juice     Food      NaN     20.00\n",
      "374  23 May 2025            Wafers     Food      NaN     30.00\n",
      "375  23 May 2025        Cold Drink     Food      NaN     20.00\n",
      "378  24 May 2025       Badam Shake     Food      NaN     30.00\n",
      "379  24 May 2025        Cold Drink     Food      NaN     40.00\n",
      "380  24 May 2025     Chhole Kulche     Food      NaN     50.00\n",
      "381  24 May 2025           Dhokala     Food      NaN     30.00\n",
      "382  25 May 2025          Panipuri     Food      NaN     20.00\n",
      "383  25 May 2025   Sugarcane Juice     Food      NaN     80.00\n",
      "384  25 May 2025      Panjabi Food     Food      NaN    540.80\n",
      "385  26 May 2025            Wafers     Food      NaN     40.00\n",
      "387  26 May 2025     Chhole Kulche     Food      NaN     70.00\n",
      "389  26 May 2025        Cold Drink     Food      NaN     20.00\n",
      "391  26 May 2025         Ice Cream     Food      NaN     20.00\n",
      "393  27 May 2025          Panipuri     Food      NaN     40.00\n",
      "394  27 May 2025      Office Lunch     Food      NaN    110.00\n",
      "395  27 May 2025         Ice Cream     Food      NaN     20.00\n"
     ]
    }
   ],
   "source": [
    "rows_with_food = df[df['Category'] == 'Food']\n",
    "\n",
    "print(\"Rows where 'Category' is 'Food':\")\n",
    "print(rows_with_food)"
   ]
  },
  {
   "cell_type": "code",
   "execution_count": 63,
   "metadata": {
    "colab": {
     "base_uri": "https://localhost:8080/"
    },
    "executionInfo": {
     "elapsed": 70,
     "status": "ok",
     "timestamp": 1739859717065,
     "user": {
      "displayName": "Rohan Movaliya",
      "userId": "01874944816231313758"
     },
     "user_tz": -330
    },
    "id": "D6f-KIsLGkXC",
    "outputId": "7cf6add2-03e5-4771-f9eb-f27aa2b1924a"
   },
   "outputs": [
    {
     "name": "stdout",
     "output_type": "stream",
     "text": [
      "Grouped Data:\n",
      "                  Cash In  Cash Out\n",
      "Remark                             \n",
      "Aagman Thal           0.0    350.00\n",
      "Aloo Puri             0.0     25.00\n",
      "Badam Shake           0.0     30.00\n",
      "Bhajiya               0.0    248.67\n",
      "Bhel                  0.0    120.00\n",
      "Biscuit               0.0    289.00\n",
      "Black Dry Grapes      0.0     45.00\n",
      "Chatuney              0.0     50.00\n",
      "Chhole Kulche         0.0    190.00\n",
      "Chips                 0.0     60.00\n",
      "Chocolate             0.0    340.00\n",
      "Chole Kulche          0.0     70.00\n",
      "Chorafali             0.0     23.33\n",
      "Coffee                0.0     45.00\n",
      "Cold Drink            0.0    706.66\n",
      "Dhokala               0.0     30.00\n",
      "Dhosa                 0.0    302.50\n",
      "Frenkie               0.0    140.00\n",
      "Fries                 0.0    400.00\n",
      "Gathiya               0.0    135.00\n",
      "Grapes                0.0     95.66\n",
      "Ice Cream             0.0   1047.00\n",
      "Ice Dish              0.0    254.00\n",
      "Khaman                0.0     45.00\n",
      "Khandvi               0.0     96.67\n",
      "Khausa                0.0     25.00\n",
      "MacDonald             0.0    219.00\n",
      "Macdonalds            0.0    114.88\n",
      "Maggi                 0.0    190.00\n",
      "Maggi Masala          0.0     10.00\n",
      "Manchurian            0.0    302.84\n",
      "Mendu Vada            0.0     53.34\n",
      "Momos                 0.0     40.00\n",
      "Office Lunch          0.0    420.00\n",
      "Panipuri              0.0    393.66\n",
      "Panjabi Food          0.0   1429.47\n",
      "Papa Luise            0.0    354.34\n",
      "Pices                 0.0     20.00\n",
      "Pizza                 0.0   3862.49\n",
      "Popcorn               0.0    155.00\n",
      "Puff                  0.0    385.00\n",
      "Pulav                 0.0    100.00\n",
      "Rickshaw              0.0     80.00\n",
      "Samosa                0.0     70.00\n",
      "Sandwich              0.0    640.00\n",
      "Sev Khamni            0.0     45.00\n",
      "Sev khamni            0.0     20.00\n",
      "Sopari                0.0     90.00\n",
      "Soup Packet           0.0     65.00\n",
      "Sugarcane Juice       0.0    100.00\n",
      "Tea                   0.0     70.00\n",
      "Thepla                0.0     60.67\n",
      "Vadapav               0.0    355.00\n",
      "Wafers                0.0   1020.00\n",
      "Watermelon            0.0    293.74\n"
     ]
    }
   ],
   "source": [
    "grouped_df = rows_with_food.groupby('Remark').sum(numeric_only=True)\n",
    "print(\"Grouped Data:\")\n",
    "print(grouped_df)\n",
    "\n",
    "# Store in a CSV file\n",
    "grouped_df.to_csv('food_grouped_data.csv', index=True)\n"
   ]
  },
  {
   "cell_type": "markdown",
   "metadata": {
    "id": "_OihRuNyTx-E"
   },
   "source": [
    "### Health"
   ]
  },
  {
   "cell_type": "code",
   "execution_count": 64,
   "metadata": {
    "colab": {
     "base_uri": "https://localhost:8080/"
    },
    "executionInfo": {
     "elapsed": 66,
     "status": "ok",
     "timestamp": 1739859717065,
     "user": {
      "displayName": "Rohan Movaliya",
      "userId": "01874944816231313758"
     },
     "user_tz": -330
    },
    "id": "KbU0GzXhhhZc",
    "outputId": "3c1325fb-8b35-4837-84c1-42d50d094bbb"
   },
   "outputs": [
    {
     "name": "stdout",
     "output_type": "stream",
     "text": [
      "Rows where 'Category' is 'Health':\n",
      "            Date         Remark Category  Cash In  Cash Out\n",
      "102  17 Feb 2025  Levroxa 500mg   Health      NaN     772.0\n",
      "277  23 Apr 2025  Levroxa 500mg   Health      NaN     783.0\n"
     ]
    }
   ],
   "source": [
    "rows_with_health = df[df['Category'] == 'Health']\n",
    "\n",
    "print(\"Rows where 'Category' is 'Health':\")\n",
    "print(rows_with_health)"
   ]
  },
  {
   "cell_type": "code",
   "execution_count": 65,
   "metadata": {
    "colab": {
     "base_uri": "https://localhost:8080/"
    },
    "executionInfo": {
     "elapsed": 63,
     "status": "ok",
     "timestamp": 1739859717065,
     "user": {
      "displayName": "Rohan Movaliya",
      "userId": "01874944816231313758"
     },
     "user_tz": -330
    },
    "id": "xNBH91CBGlyM",
    "outputId": "595da855-953d-44ab-a2a7-3285bd47df13"
   },
   "outputs": [
    {
     "name": "stdout",
     "output_type": "stream",
     "text": [
      "Grouped Data:\n",
      "               Cash In  Cash Out\n",
      "Remark                          \n",
      "Levroxa 500mg      0.0    1555.0\n"
     ]
    }
   ],
   "source": [
    "grouped_df = rows_with_health.groupby('Remark').sum(numeric_only=True)\n",
    "print(\"Grouped Data:\")\n",
    "print(grouped_df)"
   ]
  },
  {
   "cell_type": "markdown",
   "metadata": {
    "id": "lG9RvnUATs4U"
   },
   "source": [
    "### Home"
   ]
  },
  {
   "cell_type": "code",
   "execution_count": 66,
   "metadata": {
    "colab": {
     "base_uri": "https://localhost:8080/"
    },
    "executionInfo": {
     "elapsed": 62,
     "status": "ok",
     "timestamp": 1739859717065,
     "user": {
      "displayName": "Rohan Movaliya",
      "userId": "01874944816231313758"
     },
     "user_tz": -330
    },
    "id": "ajy7Vq-ThhXM",
    "outputId": "50138d4a-45d1-4dac-e0a6-4bf45bb839b7"
   },
   "outputs": [
    {
     "name": "stdout",
     "output_type": "stream",
     "text": [
      "Rows where 'Category' is 'Home':\n",
      "            Date        Remark Category  Cash In  Cash Out\n",
      "0    01 Jan 2025  Pocket Money     Home  1073.27       NaN\n",
      "19   06 Jan 2025  Pocket Money     Home  3000.00       NaN\n",
      "54   23 Jan 2025  Pocket Money     Home  2000.00       NaN\n",
      "96   14 Feb 2025  Pocket Money     Home  1500.00       NaN\n",
      "115  24 Feb 2025  Pocket Money     Home  2000.00       NaN\n",
      "138  07 Mar 2025  Pocket Money     Home  2000.00       NaN\n",
      "156  13 Mar 2025  Pocket Money     Home  5500.00       NaN\n",
      "170  19 Mar 2025  Pocket Money     Home  3500.00       NaN\n",
      "233  11 Apr 2025  Pocket Money     Home  3000.00       NaN\n",
      "243  15 Apr 2025  Pocket Money     Home  1500.00       NaN\n",
      "244  16 Apr 2025  Pocket Money     Home  1250.00       NaN\n",
      "285  24 Apr 2025  Pocket Money     Home  3000.00       NaN\n",
      "317  05 May 2025  Pocket Money     Home  2000.00       NaN\n",
      "340  12 May 2025  Pocket Money     Home  2000.00       NaN\n",
      "363  18 May 2025  Pocket Money     Home  6000.00       NaN\n"
     ]
    }
   ],
   "source": [
    "rows_with_home = df[df['Category'] == 'Home']\n",
    "\n",
    "print(\"Rows where 'Category' is 'Home':\")\n",
    "print(rows_with_home)"
   ]
  },
  {
   "cell_type": "code",
   "execution_count": 67,
   "metadata": {
    "colab": {
     "base_uri": "https://localhost:8080/"
    },
    "executionInfo": {
     "elapsed": 68,
     "status": "ok",
     "timestamp": 1739859717073,
     "user": {
      "displayName": "Rohan Movaliya",
      "userId": "01874944816231313758"
     },
     "user_tz": -330
    },
    "id": "sHyEZHniGnUB",
    "outputId": "48f0665b-7312-4a27-eed1-4d650c491c4d"
   },
   "outputs": [
    {
     "name": "stdout",
     "output_type": "stream",
     "text": [
      "Grouped Data:\n",
      "               Cash In  Cash Out\n",
      "Remark                          \n",
      "Pocket Money  39323.27       0.0\n"
     ]
    }
   ],
   "source": [
    "grouped_df = rows_with_home.groupby('Remark').sum(numeric_only=True)\n",
    "print(\"Grouped Data:\")\n",
    "print(grouped_df)"
   ]
  },
  {
   "cell_type": "markdown",
   "metadata": {
    "id": "fbQ4wet1S_1h"
   },
   "source": [
    "### Hostel"
   ]
  },
  {
   "cell_type": "code",
   "execution_count": 68,
   "metadata": {
    "colab": {
     "base_uri": "https://localhost:8080/"
    },
    "executionInfo": {
     "elapsed": 67,
     "status": "ok",
     "timestamp": 1739859717073,
     "user": {
      "displayName": "Rohan Movaliya",
      "userId": "01874944816231313758"
     },
     "user_tz": -330
    },
    "id": "iP_D6-r5iEey",
    "outputId": "a7058fda-cca1-496a-ced2-a9e8c82108a9"
   },
   "outputs": [
    {
     "name": "stdout",
     "output_type": "stream",
     "text": [
      "Rows where 'Category' is 'Hostel':\n",
      "Empty DataFrame\n",
      "Columns: [Date, Remark, Category, Cash In, Cash Out]\n",
      "Index: []\n"
     ]
    }
   ],
   "source": [
    "rows_with_hostel = df[df['Category'] == 'Hostel']\n",
    "\n",
    "print(\"Rows where 'Category' is 'Hostel':\")\n",
    "print(rows_with_hostel)"
   ]
  },
  {
   "cell_type": "code",
   "execution_count": 69,
   "metadata": {
    "colab": {
     "base_uri": "https://localhost:8080/"
    },
    "executionInfo": {
     "elapsed": 61,
     "status": "ok",
     "timestamp": 1739859717073,
     "user": {
      "displayName": "Rohan Movaliya",
      "userId": "01874944816231313758"
     },
     "user_tz": -330
    },
    "id": "Kz7BmrqJGoVx",
    "outputId": "2e7347a7-6e04-4cb0-aff2-d52ffc2f5f84"
   },
   "outputs": [
    {
     "name": "stdout",
     "output_type": "stream",
     "text": [
      "Grouped Data:\n",
      "Empty DataFrame\n",
      "Columns: [Cash In, Cash Out]\n",
      "Index: []\n"
     ]
    }
   ],
   "source": [
    "grouped_df = rows_with_hostel.groupby('Remark').sum(numeric_only=True)\n",
    "print(\"Grouped Data:\")\n",
    "print(grouped_df)"
   ]
  },
  {
   "cell_type": "markdown",
   "metadata": {
    "id": "BYUYNFriSzBI"
   },
   "source": [
    "### Maintenance"
   ]
  },
  {
   "cell_type": "code",
   "execution_count": 70,
   "metadata": {
    "colab": {
     "base_uri": "https://localhost:8080/"
    },
    "executionInfo": {
     "elapsed": 60,
     "status": "ok",
     "timestamp": 1739859717074,
     "user": {
      "displayName": "Rohan Movaliya",
      "userId": "01874944816231313758"
     },
     "user_tz": -330
    },
    "id": "eTr7P-deFiYU",
    "outputId": "69092c46-93b4-4341-9ff8-064447f0f889"
   },
   "outputs": [
    {
     "name": "stdout",
     "output_type": "stream",
     "text": [
      "Rows where 'Category' is 'Maintenance':\n",
      "            Date          Remark     Category  Cash In  Cash Out\n",
      "360  16 May 2025  Leptop Service  Maintenance      NaN     850.0\n"
     ]
    }
   ],
   "source": [
    "rows_with_maintenance = df[df['Category'] == 'Maintenance']\n",
    "\n",
    "print(\"Rows where 'Category' is 'Maintenance':\")\n",
    "print(rows_with_maintenance)"
   ]
  },
  {
   "cell_type": "code",
   "execution_count": 71,
   "metadata": {
    "colab": {
     "base_uri": "https://localhost:8080/"
    },
    "executionInfo": {
     "elapsed": 59,
     "status": "ok",
     "timestamp": 1739859717074,
     "user": {
      "displayName": "Rohan Movaliya",
      "userId": "01874944816231313758"
     },
     "user_tz": -330
    },
    "id": "D8J5_2__Gp0u",
    "outputId": "174eaf79-8bb1-43ac-c5ba-cde32854a531"
   },
   "outputs": [
    {
     "name": "stdout",
     "output_type": "stream",
     "text": [
      "Grouped Data:\n",
      "                Cash In  Cash Out\n",
      "Remark                           \n",
      "Leptop Service      0.0     850.0\n"
     ]
    }
   ],
   "source": [
    "grouped_df = rows_with_maintenance.groupby('Remark').sum(numeric_only=True)\n",
    "print(\"Grouped Data:\")\n",
    "print(grouped_df)"
   ]
  },
  {
   "cell_type": "markdown",
   "metadata": {
    "id": "evdl6M8ZSmeo"
   },
   "source": [
    "### Phone"
   ]
  },
  {
   "cell_type": "code",
   "execution_count": 72,
   "metadata": {
    "colab": {
     "base_uri": "https://localhost:8080/"
    },
    "executionInfo": {
     "elapsed": 58,
     "status": "ok",
     "timestamp": 1739859717075,
     "user": {
      "displayName": "Rohan Movaliya",
      "userId": "01874944816231313758"
     },
     "user_tz": -330
    },
    "id": "wmbp7eUpiEVo",
    "outputId": "8780a6b3-cdb6-4171-c44d-4f77feaa28bd"
   },
   "outputs": [
    {
     "name": "stdout",
     "output_type": "stream",
     "text": [
      "Rows where 'Category' is 'Phone':\n",
      "            Date           Remark Category  Cash In  Cash Out\n",
      "136  07 Mar 2025         Recharge    Phone      NaN     666.0\n",
      "358  16 May 2025  Mobile Recharge    Phone      NaN     800.9\n"
     ]
    }
   ],
   "source": [
    "rows_with_phone = df[df['Category'] == 'Phone']\n",
    "\n",
    "print(\"Rows where 'Category' is 'Phone':\")\n",
    "print(rows_with_phone)"
   ]
  },
  {
   "cell_type": "code",
   "execution_count": 73,
   "metadata": {
    "colab": {
     "base_uri": "https://localhost:8080/"
    },
    "executionInfo": {
     "elapsed": 58,
     "status": "ok",
     "timestamp": 1739859717076,
     "user": {
      "displayName": "Rohan Movaliya",
      "userId": "01874944816231313758"
     },
     "user_tz": -330
    },
    "id": "nOBZu4YyGquH",
    "outputId": "9b724632-b297-4980-ba3f-e6e351b9e1b4"
   },
   "outputs": [
    {
     "name": "stdout",
     "output_type": "stream",
     "text": [
      "Grouped Data:\n",
      "                 Cash In  Cash Out\n",
      "Remark                            \n",
      "Mobile Recharge      0.0     800.9\n",
      "Recharge             0.0     666.0\n"
     ]
    }
   ],
   "source": [
    "grouped_df = rows_with_phone.groupby('Remark').sum(numeric_only=True)\n",
    "print(\"Grouped Data:\")\n",
    "print(grouped_df)"
   ]
  },
  {
   "cell_type": "markdown",
   "metadata": {
    "id": "7MpysXHeSWpj"
   },
   "source": [
    "### Other"
   ]
  },
  {
   "cell_type": "code",
   "execution_count": 74,
   "metadata": {
    "colab": {
     "base_uri": "https://localhost:8080/"
    },
    "executionInfo": {
     "elapsed": 57,
     "status": "ok",
     "timestamp": 1739859717076,
     "user": {
      "displayName": "Rohan Movaliya",
      "userId": "01874944816231313758"
     },
     "user_tz": -330
    },
    "id": "zdMRHQ2UiERn",
    "outputId": "8693d91b-96f7-408a-caeb-9cbcd349cbe6"
   },
   "outputs": [
    {
     "name": "stdout",
     "output_type": "stream",
     "text": [
      "Rows where 'Category' is 'Other':\n",
      "            Date                                 Remark Category  Cash In  \\\n",
      "128  01 Mar 2025  Bus, Train Ticket Cancellation Charge    Other      NaN   \n",
      "129  01 Mar 2025             Wedding Cover Ayush Sister    Other      NaN   \n",
      "158  13 Mar 2025                             Scolarship    Other  20000.0   \n",
      "368  22 May 2025                               PG Token    Other      NaN   \n",
      "\n",
      "     Cash Out  \n",
      "128     136.0  \n",
      "129     200.0  \n",
      "158       NaN  \n",
      "368    1000.0  \n"
     ]
    }
   ],
   "source": [
    "rows_with_other = df[df['Category'] == 'Other']\n",
    "\n",
    "print(\"Rows where 'Category' is 'Other':\")\n",
    "print(rows_with_other)"
   ]
  },
  {
   "cell_type": "code",
   "execution_count": 75,
   "metadata": {
    "colab": {
     "base_uri": "https://localhost:8080/"
    },
    "executionInfo": {
     "elapsed": 56,
     "status": "ok",
     "timestamp": 1739859717076,
     "user": {
      "displayName": "Rohan Movaliya",
      "userId": "01874944816231313758"
     },
     "user_tz": -330
    },
    "id": "iadYtReZGsC9",
    "outputId": "4d6d2c84-af7c-46a7-ecab-0a3ed8bfb328"
   },
   "outputs": [
    {
     "name": "stdout",
     "output_type": "stream",
     "text": [
      "Grouped Data:\n",
      "                                       Cash In  Cash Out\n",
      "Remark                                                  \n",
      "Bus, Train Ticket Cancellation Charge      0.0     136.0\n",
      "PG Token                                   0.0    1000.0\n",
      "Scolarship                             20000.0       0.0\n",
      "Wedding Cover Ayush Sister                 0.0     200.0\n"
     ]
    }
   ],
   "source": [
    "grouped_df = rows_with_other.groupby('Remark').sum(numeric_only=True)\n",
    "print(\"Grouped Data:\")\n",
    "print(grouped_df)"
   ]
  },
  {
   "cell_type": "markdown",
   "metadata": {
    "id": "pruuU1hHSCaY"
   },
   "source": [
    "### Travel"
   ]
  },
  {
   "cell_type": "code",
   "execution_count": 76,
   "metadata": {
    "colab": {
     "base_uri": "https://localhost:8080/"
    },
    "executionInfo": {
     "elapsed": 407,
     "status": "ok",
     "timestamp": 1739859717430,
     "user": {
      "displayName": "Rohan Movaliya",
      "userId": "01874944816231313758"
     },
     "user_tz": -330
    },
    "id": "L-285GBsj6uM",
    "outputId": "1cda541c-f378-4a72-a65c-2a763557cdf8"
   },
   "outputs": [
    {
     "name": "stdout",
     "output_type": "stream",
     "text": [
      "Rows where 'Category' is 'Travel':\n",
      "            Date    Remark Category  Cash In  Cash Out\n",
      "13   04 Jan 2025  Rickshaw   Travel      NaN     80.00\n",
      "20   06 Jan 2025  Rickshaw   Travel      NaN     98.00\n",
      "21   06 Jan 2025  Rickshaw   Travel      NaN     80.00\n",
      "31   11 Jan 2025       Bus   Travel      NaN    250.00\n",
      "50   20 Jan 2025  Rickshaw   Travel      NaN     40.00\n",
      "55   24 Jan 2025  Rickshaw   Travel      NaN     40.00\n",
      "66   29 Jan 2025  Rickshaw   Travel      NaN     80.00\n",
      "67   30 Jan 2025  Rickshaw   Travel      NaN    100.00\n",
      "71   31 Jan 2025       Bus   Travel      NaN     10.00\n",
      "75   01 Feb 2025       Bus   Travel      NaN     26.00\n",
      "76   05 Feb 2025       Car   Travel      NaN    105.75\n",
      "92   13 Feb 2025  Rickshaw   Travel      NaN     80.00\n",
      "95   14 Feb 2025  Rickshaw   Travel      NaN     80.00\n",
      "100  17 Feb 2025  Rickshaw   Travel      NaN     80.00\n",
      "105  19 Feb 2025  Rickshaw   Travel      NaN     40.00\n",
      "107  20 Feb 2025  Rickshaw   Travel      NaN     40.00\n",
      "114  24 Feb 2025  Rickshaw   Travel      NaN     40.00\n",
      "118  26 Feb 2025  Rickshaw   Travel      NaN     80.00\n",
      "124  28 Feb 2025  Rickshaw   Travel      NaN     10.00\n",
      "133  05 Mar 2025  Rickshaw   Travel      NaN     40.00\n",
      "137  07 Mar 2025  Rickshaw   Travel      NaN     40.00\n",
      "145  12 Mar 2025  Rickshaw   Travel      NaN     40.00\n",
      "157  13 Mar 2025  Rickshaw   Travel      NaN     80.00\n",
      "166  17 Mar 2025  Rickshaw   Travel      NaN     80.00\n",
      "169  19 Mar 2025  Rickshaw   Travel      NaN     40.00\n",
      "171  20 Mar 2025  Rickshaw   Travel      NaN     80.00\n",
      "185  24 Mar 2025  Rickshaw   Travel      NaN     80.00\n",
      "186  25 Mar 2025  Rickshaw   Travel      NaN     80.00\n",
      "187  26 Mar 2025  Rickshaw   Travel      NaN     80.00\n",
      "188  27 Mar 2025  Rickshaw   Travel      NaN     80.00\n",
      "202  31 Mar 2025  Rickshaw   Travel      NaN     80.00\n",
      "206  02 Apr 2025  Rickshaw   Travel      NaN     80.00\n",
      "208  03 Apr 2025  Rickshaw   Travel      NaN     80.00\n",
      "211  04 Apr 2025  Rickshaw   Travel      NaN     80.00\n",
      "217  07 Apr 2025  Rickshaw   Travel      NaN     80.00\n",
      "218  08 Apr 2025  Rickshaw   Travel      NaN     80.00\n",
      "224  09 Apr 2025  Rickshaw   Travel      NaN     80.00\n",
      "226  10 Apr 2025  Rickshaw   Travel      NaN     80.00\n",
      "229  11 Apr 2025  Rickshaw   Travel      NaN     80.00\n",
      "234  12 Apr 2025  Rickshaw   Travel      NaN     40.00\n",
      "237  14 Apr 2025  Rickshaw   Travel      NaN     80.00\n",
      "239  15 Apr 2025  Rickshaw   Travel      NaN     80.00\n",
      "247  16 Apr 2025  Rickshaw   Travel      NaN     80.00\n",
      "250  17 Apr 2025  Rickshaw   Travel      NaN     70.00\n",
      "257  18 Apr 2025  Rickshaw   Travel      NaN     80.00\n",
      "270  21 Apr 2025  Rickshaw   Travel      NaN     80.00\n",
      "272  22 Apr 2025  Rickshaw   Travel      NaN     80.00\n",
      "275  23 Apr 2025  Rickshaw   Travel      NaN     60.00\n",
      "276  23 Apr 2025      Bike   Travel      NaN     60.00\n",
      "282  23 Apr 2025      Bike   Travel      NaN     33.00\n",
      "284  24 Apr 2025  Rickshaw   Travel      NaN     80.00\n",
      "286  25 Apr 2025  Rickshaw   Travel      NaN     40.00\n",
      "291  26 Apr 2025  Rickshaw   Travel      NaN     40.00\n",
      "299  28 Apr 2025  Rickshaw   Travel      NaN     80.00\n",
      "301  29 Apr 2025  Rickshaw   Travel      NaN     80.00\n",
      "303  30 Apr 2025  Rickshaw   Travel      NaN     80.00\n",
      "305  01 May 2025  Rickshaw   Travel      NaN     80.00\n",
      "310  02 May 2025  Rickshaw   Travel      NaN     80.00\n",
      "313  05 May 2025  Rickshaw   Travel      NaN     80.00\n",
      "320  06 May 2025  Rickshaw   Travel      NaN     70.00\n",
      "328  08 May 2025  Rickshaw   Travel      NaN    100.00\n",
      "335  12 May 2025  Rickshaw   Travel      NaN     80.00\n",
      "344  13 May 2025  Rickshaw   Travel      NaN     80.00\n",
      "345  13 May 2025       Bus   Travel      NaN     10.00\n",
      "347  14 May 2025  Rickshaw   Travel      NaN     80.00\n",
      "351  15 May 2025  Rickshaw   Travel      NaN     60.00\n",
      "357  16 May 2025       Bus   Travel      NaN    500.00\n",
      "359  16 May 2025       Car   Travel      NaN    187.00\n",
      "364  19 May 2025  Rickshaw   Travel      NaN    130.00\n",
      "365  20 May 2025  Rickshaw   Travel      NaN     70.00\n",
      "369  22 May 2025  Rickshaw   Travel      NaN     90.00\n",
      "370  22 May 2025       Bus   Travel      NaN     10.00\n",
      "376  23 May 2025       Bus   Travel      NaN     20.00\n",
      "377  23 May 2025  Rickshaw   Travel      NaN    110.00\n",
      "386  26 May 2025  Rickshaw   Travel      NaN    118.00\n",
      "392  27 May 2025  Rickshaw   Travel      NaN     80.00\n",
      "397  28 May 2025  Rickshaw   Travel      NaN     80.00\n",
      "399  28 May 2025      Bike   Travel      NaN     59.00\n"
     ]
    }
   ],
   "source": [
    "rows_with_travel = df[df['Category'] == 'Travel']\n",
    "\n",
    "print(\"Rows where 'Category' is 'Travel':\")\n",
    "print(rows_with_travel)\n"
   ]
  },
  {
   "cell_type": "code",
   "execution_count": 77,
   "metadata": {
    "colab": {
     "base_uri": "https://localhost:8080/"
    },
    "executionInfo": {
     "elapsed": 5,
     "status": "ok",
     "timestamp": 1739859717430,
     "user": {
      "displayName": "Rohan Movaliya",
      "userId": "01874944816231313758"
     },
     "user_tz": -330
    },
    "id": "byLbVqOPGtRz",
    "outputId": "824bc60d-97ae-446c-bfce-68d327acee56"
   },
   "outputs": [
    {
     "name": "stdout",
     "output_type": "stream",
     "text": [
      "Grouped Data:\n",
      "          Cash In  Cash Out\n",
      "Remark                     \n",
      "Bike          0.0    152.00\n",
      "Bus           0.0    826.00\n",
      "Car           0.0    292.75\n",
      "Rickshaw      0.0   4846.00\n"
     ]
    }
   ],
   "source": [
    "grouped_df = rows_with_travel.groupby('Remark').sum(numeric_only=True)\n",
    "print(\"Grouped Data:\")\n",
    "print(grouped_df)"
   ]
  },
  {
   "cell_type": "markdown",
   "metadata": {},
   "source": [
    "# Data Visulization"
   ]
  },
  {
   "cell_type": "code",
   "execution_count": 78,
   "metadata": {},
   "outputs": [],
   "source": [
    "# Convert Date column to datetime format\n",
    "df[\"Date\"] = pd.to_datetime(df[\"Date\"], format=\"%d %b %Y\")\n",
    "\n",
    "# Convert 'Cash Out' and 'Cash In' to numeric, filling missing values with 0\n",
    "df[\"Cash Out\"] = pd.to_numeric(df[\"Cash Out\"], errors=\"coerce\").fillna(0)\n",
    "df[\"Cash In\"] = pd.to_numeric(df[\"Cash In\"], errors=\"coerce\").fillna(0)"
   ]
  },
  {
   "cell_type": "code",
   "execution_count": 79,
   "metadata": {},
   "outputs": [
    {
     "data": {
      "image/png": "[encoded data removed]",
      "text/plain": [
       "<Figure size 800x600 with 1 Axes>"
      ]
     },
     "metadata": {},
     "output_type": "display_data"
    }
   ],
   "source": [
    "# Pie Chart for Category-wise Expense Distribution\n",
    "category_expense = df.groupby(\"Category\")[\"Cash Out\"].sum()\n",
    "plt.figure(figsize=(8, 6))\n",
    "plt.pie(category_expense, labels=category_expense.index, autopct=\"%1.1f%%\")\n",
    "plt.title(\"Category-wise Expense Distribution\")\n",
    "plt.show()"
   ]
  },
  {
   "cell_type": "code",
   "execution_count": 80,
   "metadata": {},
   "outputs": [
    {
     "data": {
      "image/png": "[encoded data removed]",
      "text/plain": [
       "<Figure size 1000x600 with 1 Axes>"
      ]
     },
     "metadata": {},
     "output_type": "display_data"
    }
   ],
   "source": [
    "plt.figure(figsize=(10, 6))\n",
    "sns.barplot(x=category_expense.index, y=category_expense.values, hue=category_expense.index, palette=\"viridis\")\n",
    "plt.title(\"Top Spending Categories\")\n",
    "plt.ylabel(\"Total Expense\")\n",
    "plt.xlabel(\"Category\")\n",
    "plt.show()"
   ]
  },
  {
   "cell_type": "code",
   "execution_count": 81,
   "metadata": {},
   "outputs": [
    {
     "data": {
      "image/png": "[encoded data removed]",
      "text/plain": [
       "<Figure size 1200x600 with 1 Axes>"
      ]
     },
     "metadata": {},
     "output_type": "display_data"
    }
   ],
   "source": [
    "# Monthly Expense Trend\n",
    "df[\"Month\"] = df[\"Date\"].dt.to_period(\"M\")\n",
    "monthly_expense = df.groupby(\"Month\")[\"Cash Out\"].sum()\n",
    "plt.figure(figsize=(12, 6))\n",
    "sns.barplot(x=monthly_expense.index.astype(str), y=monthly_expense.values, hue=monthly_expense.index.astype(str), palette=\"coolwarm\", legend=False)\n",
    "plt.title(\"Monthly Expense Trend\")\n",
    "plt.xlabel(\"Month\")\n",
    "plt.ylabel(\"Total Expense\")\n",
    "plt.xticks(rotation=45)\n",
    "plt.show()"
   ]
  },
  {
   "cell_type": "code",
   "execution_count": 82,
   "metadata": {},
   "outputs": [
    {
     "data": {
      "text/plain": [
       "<Figure size 1200x600 with 0 Axes>"
      ]
     },
     "metadata": {},
     "output_type": "display_data"
    },
    {
     "data": {
      "image/png": "[encoded data removed]",
      "text/plain": [
       "<Figure size 1200x600 with 1 Axes>"
      ]
     },
     "metadata": {},
     "output_type": "display_data"
    }
   ],
   "source": [
    "# Monthly Expense Trend\n",
    "df[\"Month\"] = df[\"Date\"].dt.to_period(\"M\")\n",
    "monthly_cash_flow = df.groupby(\"Month\")[[\"Cash In\", \"Cash Out\"]].sum()\n",
    "plt.figure(figsize=(12, 6))\n",
    "monthly_cash_flow.plot(kind=\"bar\", stacked=False, color=[\"green\", \"red\"], figsize=(12, 6))\n",
    "plt.title(\"Monthly Cash In vs. Cash Out\")\n",
    "plt.xlabel(\"Month\")\n",
    "plt.ylabel(\"Amount\")\n",
    "plt.xticks(rotation=45)\n",
    "plt.legend([\"Cash In\", \"Cash Out\"])\n",
    "plt.show()"
   ]
  },
  {
   "cell_type": "code",
   "execution_count": 83,
   "metadata": {},
   "outputs": [
    {
     "data": {
      "image/png": "[encoded data removed]",
      "text/plain": [
       "<Figure size 1000x600 with 1 Axes>"
      ]
     },
     "metadata": {},
     "output_type": "display_data"
    }
   ],
   "source": [
    "# Convert 'Date' to datetime\n",
    "df[\"Date\"] = pd.to_datetime(df[\"Date\"], format=\"%d %b %Y\")\n",
    "\n",
    "# Group by date and sum 'Cash Out'\n",
    "cash_out_per_day = df.groupby(\"Date\")[\"Cash Out\"].sum().fillna(0)\n",
    "\n",
    "# Plot line chart\n",
    "plt.figure(figsize=(10, 6))\n",
    "plt.plot(cash_out_per_day.index, cash_out_per_day.values, linewidth=2.5)\n",
    "# plt.ylim(0, 2000)\n",
    "plt.title(\"Day-wise Cash Out\")\n",
    "plt.xlabel(\"Date\")\n",
    "plt.ylabel(\"Cash Out Amount\")\n",
    "plt.grid(True, color=\"gray\", linestyle=\"--\", linewidth=0.5)\n",
    "plt.xticks(rotation=45)\n",
    "plt.show()"
   ]
  },
  {
   "cell_type": "code",
   "execution_count": 84,
   "metadata": {},
   "outputs": [
    {
     "data": {
      "image/png": "[encoded data removed]",
      "text/plain": [
       "<Figure size 1000x600 with 1 Axes>"
      ]
     },
     "metadata": {},
     "output_type": "display_data"
    }
   ],
   "source": [
    "# Convert 'Date' to datetime\n",
    "df[\"Date\"] = pd.to_datetime(df[\"Date\"], format=\"%d %b %Y\")\n",
    "\n",
    "# Group by date and sum 'Cash Out'\n",
    "cash_out_per_day = df.groupby(\"Date\")[\"Cash In\"].sum().fillna(0)\n",
    "\n",
    "# Plot line chart\n",
    "plt.figure(figsize=(10, 6))\n",
    "plt.plot(cash_out_per_day.index, cash_out_per_day.values, linewidth=2.5)\n",
    "plt.title(\"Day-wise Cash Out\")\n",
    "plt.xlabel(\"Date\")\n",
    "plt.ylabel(\"Cash Out Amount\")\n",
    "plt.grid(True, color=\"gray\", linestyle=\"--\", linewidth=0.5)\n",
    "plt.xticks(rotation=45)\n",
    "plt.show()"
   ]
  },
  {
   "cell_type": "code",
   "execution_count": 85,
   "metadata": {},
   "outputs": [
    {
     "data": {
      "image/png": "[encoded data removed]",
      "text/plain": [
       "<Figure size 1000x600 with 1 Axes>"
      ]
     },
     "metadata": {},
     "output_type": "display_data"
    }
   ],
   "source": [
    "# Rest \"Balance\" Chart\n",
    "file_path = \"2025.csv\"\n",
    "temp_df = pd.read_csv(file_path)\n",
    "columns_to_delete = ['Time', 'Party', 'Mode', 'Remark', 'Category', 'Cash In', 'Cash Out']\n",
    "temp_df = temp_df.drop(columns=columns_to_delete)\n",
    "temp_df[\"Date\"] = pd.to_datetime(temp_df[\"Date\"], format=\"%d %b %Y\")\n",
    "temp_df[\"Balance\"] = pd.to_numeric(temp_df[\"Balance\"], errors=\"coerce\").fillna(0)\n",
    "\n",
    "# Plot line chart\n",
    "plt.figure(figsize=(10, 6))\n",
    "ax = plt.gca()\n",
    "ax.set_facecolor('#171616')  \n",
    "plt.plot(temp_df.index, temp_df['Balance'], color='r', linewidth=2.5, label='Balance')\n",
    "plt.title('Balance Over Time')\n",
    "plt.xlabel('Index')\n",
    "plt.ylabel('Balance')\n",
    "plt.grid(True, color='white', linewidth=0.5)\n",
    "\n",
    "# Add legend\n",
    "plt.legend()\n",
    "\n",
    "# Show the plot\n",
    "plt.show()\n"
   ]
  }
 ],
 "metadata": {
  "colab": {
   "authorship_tag": "ABX9TyM2qCHsmmulDk/awz4JDqVV",
   "collapsed_sections": [
    "zTWxfZehM8iw",
    "5yVkVcYJUPah",
    "lDVzF-UKiA0o",
    "Z94EFrw0UE0y",
    "_OihRuNyTx-E",
    "lG9RvnUATs4U",
    "fbQ4wet1S_1h",
    "BYUYNFriSzBI",
    "evdl6M8ZSmeo",
    "7MpysXHeSWpj",
    "pruuU1hHSCaY"
   ],
   "provenance": []
  },
  "kernelspec": {
   "display_name": "env",
   "language": "python",
   "name": "python3"
  },
  "language_info": {
   "codemirror_mode": {
    "name": "ipython",
    "version": 3
   },
   "file_extension": ".py",
   "mimetype": "text/x-python",
   "name": "python",
   "nbconvert_exporter": "python",
   "pygments_lexer": "ipython3",
   "version": "3.10.7"
  }
 },
 "nbformat": 4,
 "nbformat_minor": 0
}
